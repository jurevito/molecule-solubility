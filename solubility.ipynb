{
 "cells": [
  {
   "cell_type": "code",
   "execution_count": 1,
   "metadata": {},
   "outputs": [],
   "source": [
    "from util import *\n",
    "import pandas as pd\n",
    "import numpy as np\n",
    "import deepchem as dc\n",
    "import warnings\n",
    "import os\n",
    "\n",
    "warnings.filterwarnings('ignore')\n",
    "os.environ['TF_CPP_MIN_LOG_LEVEL'] = '2'"
   ]
  },
  {
   "cell_type": "code",
   "execution_count": 2,
   "metadata": {},
   "outputs": [],
   "source": [
    "results = {}"
   ]
  },
  {
   "cell_type": "markdown",
   "metadata": {},
   "source": [
    "## Graph Convolutional Models"
   ]
  },
  {
   "cell_type": "code",
   "execution_count": 3,
   "metadata": {},
   "outputs": [],
   "source": [
    "# load esol dataset from csv\n",
    "tasks = ['measured log solubility in mols per litre']\n",
    "loader = dc.data.CSVLoader(tasks=tasks, feature_field=\"smiles\", featurizer=dc.feat.ConvMolFeaturizer())\n",
    "dataset = loader.create_dataset('esol.csv')\n",
    "\n",
    "# split esol dataset\n",
    "splitter = dc.splits.RandomSplitter()\n",
    "train_set, test_set = splitter.train_test_split(dataset, frac_train=0.8, seed=0)"
   ]
  },
  {
   "cell_type": "code",
   "execution_count": null,
   "metadata": {},
   "outputs": [],
   "source": [
    "hyper_params = {\n",
    "    'batch_size': [32, 16],\n",
    "    'graph_conv_layers': [[128, 128], [256, 256], [512, 512]],\n",
    "    'dense_layer_size': [512, 256, 128],\n",
    "    'dropout': [0.0],\n",
    "}\n",
    "\n",
    "search_results, (batch_size, conv_layers, layer_sizes, dropout_rate) = grid_search_graph_conv(train_set, hyper_params)"
   ]
  },
  {
   "cell_type": "code",
   "execution_count": 5,
   "metadata": {},
   "outputs": [
    {
     "name": "stdout",
     "output_type": "stream",
     "text": [
      "        rmse  batch_size conv_layers  layer_sizes  dropout_rate\n",
      "14  0.909815          16  [256, 256]          128           0.0\n",
      "16  0.925040          16  [512, 512]          256           0.0\n",
      "7   0.927719          32  [512, 512]          256           0.0\n",
      "17  0.932643          16  [512, 512]          128           0.0\n",
      "11  0.934425          16  [128, 128]          128           0.0\n",
      "5   0.939430          32  [256, 256]          128           0.0\n",
      "8   0.943036          32  [512, 512]          128           0.0\n",
      "10  0.945521          16  [128, 128]          256           0.0\n",
      "13  0.946772          16  [256, 256]          256           0.0\n",
      "2   0.949801          32  [128, 128]          128           0.0\n",
      "9   0.953160          16  [128, 128]          512           0.0\n",
      "3   0.961466          32  [256, 256]          512           0.0\n",
      "12  0.962208          16  [256, 256]          512           0.0\n",
      "4   0.966723          32  [256, 256]          256           0.0\n",
      "15  0.969348          16  [512, 512]          512           0.0\n",
      "0   0.987445          32  [128, 128]          512           0.0\n",
      "6   0.988186          32  [512, 512]          512           0.0\n",
      "1   0.990654          32  [128, 128]          256           0.0\n"
     ]
    }
   ],
   "source": [
    "print(search_results)"
   ]
  },
  {
   "cell_type": "code",
   "execution_count": 6,
   "metadata": {},
   "outputs": [
    {
     "name": "stdout",
     "output_type": "stream",
     "text": [
      "Train scores\n",
      "{'mean-rms_score': 0.39749705901679855, 'mean-mae_score': 0.32439183461783083, 'mean-pearson_r2_score': 0.9683124191242287}\n",
      "Test scores\n",
      "{'mean-rms_score': 0.7843367191956222, 'mean-mae_score': 0.6250962894537979, 'mean-pearson_r2_score': 0.867844137654933}\n"
     ]
    }
   ],
   "source": [
    "transformers = [dc.trans.NormalizationTransformer(transform_y=True, dataset=train_set, move_mean=True)]\n",
    "\n",
    "# preprocess data\n",
    "for transformer in transformers:\n",
    "    train_set = transformer.transform(train_set)\n",
    "    test_set = transformer.transform(test_set)\n",
    "\n",
    "# intantiate and fit model\n",
    "model = dc.models.GraphConvModel(1, mode='regression', batch_size=batch_size, graph_conv_layers=conv_layers, dense_layer_size=layer_sizes, dropout=dropout_rate)\n",
    "model.fit(train_set, nb_epoch=100)\n",
    "\n",
    "# evaluate model\n",
    "metric = [\n",
    "    dc.metrics.Metric(dc.metrics.rms_score, np.mean),\n",
    "    dc.metrics.Metric(dc.metrics.mae_score, np.mean),\n",
    "    dc.metrics.Metric(dc.metrics.pearson_r2_score, np.mean)\n",
    "]\n",
    "train_scores = model.evaluate(train_set, metric, transformers)\n",
    "test_scores = model.evaluate(test_set, metric, transformers)\n",
    "\n",
    "print(\"Train scores\")\n",
    "print(train_scores)\n",
    "\n",
    "print(\"Test scores\")\n",
    "print(test_scores)\n",
    "\n",
    "results['gcm'] = test_scores"
   ]
  },
  {
   "cell_type": "markdown",
   "metadata": {},
   "source": [
    "## Message Passing Neural Network"
   ]
  },
  {
   "cell_type": "code",
   "execution_count": 7,
   "metadata": {},
   "outputs": [],
   "source": [
    "# load esol dataset from csv\n",
    "tasks = ['measured log solubility in mols per litre']\n",
    "loader = dc.data.CSVLoader(tasks=tasks, feature_field=\"smiles\", featurizer=dc.feat.WeaveFeaturizer())\n",
    "dataset = loader.create_dataset('esol.csv')\n",
    "\n",
    "# split esol dataset\n",
    "splitter = dc.splits.RandomSplitter()\n",
    "train_set, test_set = splitter.train_test_split(dataset, frac_train=0.8, seed=0)"
   ]
  },
  {
   "cell_type": "code",
   "execution_count": 8,
   "metadata": {},
   "outputs": [
    {
     "name": "stdout",
     "output_type": "stream",
     "text": [
      "[####################                    ]"
     ]
    }
   ],
   "source": [
    "hyper_params = {\n",
    "    'batch_size': [32, 16],\n",
    "    'n_atom_feat': [75],\n",
    "    'n_pair_feat': [14],\n",
    "    'n_hidden': [100]\n",
    "}\n",
    "\n",
    "search_results, (batch_size, n_atom_feat, n_pair_feat, n_hidden) = grid_search_mpnn(train_set, hyper_params)"
   ]
  },
  {
   "cell_type": "code",
   "execution_count": 9,
   "metadata": {},
   "outputs": [
    {
     "name": "stdout",
     "output_type": "stream",
     "text": [
      "       rmse  batch_size  n_atom_feat  n_pair_feat  n_hidden\n",
      "0  0.679996          32           75           14       100\n",
      "1  0.686250          16           75           14       100\n"
     ]
    }
   ],
   "source": [
    "print(search_results)"
   ]
  },
  {
   "cell_type": "code",
   "execution_count": 10,
   "metadata": {},
   "outputs": [
    {
     "name": "stdout",
     "output_type": "stream",
     "text": [
      "Train scores\n",
      "{'mean-rms_score': 0.47224031965659397, 'mean-mae_score': 0.36102604904376745, 'mean-pearson_r2_score': 0.9631306808853515}\n",
      "Test scores\n",
      "{'mean-rms_score': 0.6103362570698991, 'mean-mae_score': 0.47893592794330364, 'mean-pearson_r2_score': 0.9197362733301125}\n"
     ]
    }
   ],
   "source": [
    "transformers = [dc.trans.NormalizationTransformer(transform_y=True, dataset=train_set, move_mean=True)]\n",
    "\n",
    "# preprocess data\n",
    "for transformer in transformers:\n",
    "    train_set = transformer.transform(train_set)\n",
    "    test_set = transformer.transform(test_set)\n",
    "\n",
    "# intantiate and fit model\n",
    "model = dc.models.MPNNModel(1, mode='regression', batch_size=batch_size, use_queue=False, n_atom_feat=n_atom_feat, n_pair_feat=n_pair_feat, n_hidden=n_hidden, learning_rate=0.0001, T=3, M=5)\n",
    "model.fit(train_set, nb_epoch=50, checkpoint_interval=100)\n",
    "\n",
    "# evaluate model\n",
    "metric = [\n",
    "    dc.metrics.Metric(dc.metrics.rms_score, np.mean),\n",
    "    dc.metrics.Metric(dc.metrics.mae_score, np.mean),\n",
    "    dc.metrics.Metric(dc.metrics.pearson_r2_score, np.mean)\n",
    "]\n",
    "train_scores = model.evaluate(train_set, metric, transformers)\n",
    "test_scores = model.evaluate(test_set, metric, transformers)\n",
    "\n",
    "print(\"Train scores\")\n",
    "print(train_scores)\n",
    "\n",
    "print(\"Test scores\")\n",
    "print(test_scores)\n",
    "\n",
    "results['mpnn'] = test_scores"
   ]
  },
  {
   "cell_type": "markdown",
   "metadata": {},
   "source": [
    "## Random Forest Regressor"
   ]
  },
  {
   "cell_type": "code",
   "execution_count": 11,
   "metadata": {},
   "outputs": [],
   "source": [
    "# load esol dataset from csv\n",
    "tasks = ['measured log solubility in mols per litre']\n",
    "loader = dc.data.CSVLoader(tasks=tasks, feature_field=\"smiles\", featurizer=dc.feat.CircularFingerprint(size=2048, radius=4))\n",
    "dataset = loader.create_dataset('esol.csv')\n",
    "\n",
    "# split esol dataset\n",
    "splitter = dc.splits.RandomSplitter()\n",
    "train_set, test_set = splitter.train_test_split(dataset, frac_train=0.8, seed=0)"
   ]
  },
  {
   "cell_type": "code",
   "execution_count": 12,
   "metadata": {},
   "outputs": [
    {
     "name": "stdout",
     "output_type": "stream",
     "text": [
      "[####################      ]"
     ]
    }
   ],
   "source": [
    "hyper_params = {\n",
    "    'n_estimators': [250, 500, 1000],\n",
    "    'criterion': ['mse', 'mae'],\n",
    "    'max_features': ['auto']\n",
    "}\n",
    "\n",
    "search_results, (n_estimators, criterion, max_features) = grid_search_random_forest(train_set, hyper_params)"
   ]
  },
  {
   "cell_type": "code",
   "execution_count": 13,
   "metadata": {},
   "outputs": [
    {
     "name": "stdout",
     "output_type": "stream",
     "text": [
      "       rmse  n_estimators criterion max_features\n",
      "2  1.225431           500       mse         auto\n",
      "4  1.225469          1000       mse         auto\n",
      "0  1.226358           250       mse         auto\n",
      "1  1.233063           250       mae         auto\n",
      "3  1.235029           500       mae         auto\n",
      "5  1.235786          1000       mae         auto\n"
     ]
    }
   ],
   "source": [
    "print(search_results)"
   ]
  },
  {
   "cell_type": "code",
   "execution_count": 14,
   "metadata": {},
   "outputs": [
    {
     "name": "stdout",
     "output_type": "stream",
     "text": [
      "Train scores\n",
      "{'mean-rms_score': 0.4557074378032759, 'mean-mae_score': 0.32590803615678415, 'mean-pearson_r2_score': 0.965785107964993}\n",
      "Test scores\n",
      "{'mean-rms_score': 1.1422869134998823, 'mean-mae_score': 0.8716654813527174, 'mean-pearson_r2_score': 0.7005435810374528}\n"
     ]
    }
   ],
   "source": [
    "from sklearn.ensemble import RandomForestRegressor\n",
    "\n",
    "# intantiate and fit model\n",
    "sklearn_model = RandomForestRegressor(n_estimators=n_estimators, criterion=criterion, max_features=max_features, random_state=0)\n",
    "model = dc.models.SklearnModel(sklearn_model)\n",
    "model.fit(train_set)\n",
    "\n",
    "# evaluate model\n",
    "metric = [\n",
    "    dc.metrics.Metric(dc.metrics.rms_score, np.mean),\n",
    "    dc.metrics.Metric(dc.metrics.mae_score, np.mean),\n",
    "    dc.metrics.Metric(dc.metrics.pearson_r2_score, np.mean)\n",
    "]\n",
    "train_scores = model.evaluate(train_set, metric, [])\n",
    "test_scores = model.evaluate(test_set, metric, [])\n",
    "\n",
    "print(\"Train scores\")\n",
    "print(train_scores)\n",
    "\n",
    "print(\"Test scores\")\n",
    "print(test_scores)\n",
    "\n",
    "results['rfr'] = test_scores"
   ]
  },
  {
   "cell_type": "code",
   "execution_count": 15,
   "metadata": {},
   "outputs": [
    {
     "data": {
      "image/png": "[encoded data removed]",
      "text/plain": [
       "<Figure size 1008x504 with 1 Axes>"
      ]
     },
     "metadata": {},
     "output_type": "display_data"
    },
    {
     "data": {
      "image/png": "[encoded data removed]",
      "text/plain": [
       "<Figure size 1008x504 with 1 Axes>"
      ]
     },
     "metadata": {},
     "output_type": "display_data"
    },
    {
     "data": {
      "image/png": "[encoded data removed]",
      "text/plain": [
       "<Figure size 1008x504 with 1 Axes>"
      ]
     },
     "metadata": {},
     "output_type": "display_data"
    }
   ],
   "source": [
    "import matplotlib.pyplot as plt\n",
    "import seaborn as sns\n",
    "\n",
    "color_palette = ['#005075', '#535b9a', '#a459a3']\n",
    "score_keys = ['mean-rms_score', 'mean-mae_score', 'mean-pearson_r2_score']\n",
    "plot_titles = ['RMSE', 'MAE', 'R2']\n",
    "\n",
    "# draw bar plots\n",
    "for score_key, plot_title in zip(score_keys, plot_titles):\n",
    "\n",
    "    scores = [results['gcm'][score_key], results['mpnn'][score_key], results['rfr'][score_key]]\n",
    "    model_labels = ['GCM', 'MPNN', 'RFR']\n",
    "\n",
    "    fig = plt.figure(figsize=(14, 7), facecolor='w')\n",
    "    sns.barplot(scores, model_labels, orient='h', palette=color_palette)\n",
    "    plt.title(plot_title)\n",
    "    plt.xlim([0, 1.4])\n",
    "    plt.savefig('images/%s.png' % plot_title.lower())"
   ]
  }
 ],
 "metadata": {
  "interpreter": {
   "hash": "cd4f712bdf0515c4096e7f378f6652de9b65133e68b219cf86da6448b555e669"
  },
  "kernelspec": {
   "display_name": "Python 3.9.2 64-bit",
   "language": "python",
   "name": "python3"
  },
  "language_info": {
   "codemirror_mode": {
    "name": "ipython",
    "version": 3
   },
   "file_extension": ".py",
   "mimetype": "text/x-python",
   "name": "python",
   "nbconvert_exporter": "python",
   "pygments_lexer": "ipython3",
   "version": "3.9.2"
  },
  "orig_nbformat": 4
 },
 "nbformat": 4,
 "nbformat_minor": 2
}
