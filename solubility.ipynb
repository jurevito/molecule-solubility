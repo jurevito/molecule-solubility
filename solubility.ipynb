{
 "cells": [
  {
   "cell_type": "code",
   "execution_count": 1,
   "metadata": {},
   "outputs": [],
   "source": [
    "from util import *\n",
    "import pandas as pd\n",
    "import numpy as np\n",
    "import deepchem as dc\n",
    "from matplotlib import pyplot as plt\n",
    "import warnings\n",
    "import os\n",
    "\n",
    "warnings.filterwarnings('ignore')\n",
    "os.environ['TF_CPP_MIN_LOG_LEVEL'] = '2'"
   ]
  },
  {
   "cell_type": "markdown",
   "metadata": {},
   "source": [
    "## Graph Convolutional Models"
   ]
  },
  {
   "cell_type": "code",
   "execution_count": 2,
   "metadata": {},
   "outputs": [],
   "source": [
    "# load esol dataset from csv\n",
    "tasks = ['measured log solubility in mols per litre']\n",
    "loader = dc.data.CSVLoader(tasks=tasks, feature_field=\"smiles\", featurizer=dc.feat.ConvMolFeaturizer())\n",
    "dataset = loader.create_dataset('esol.csv')\n",
    "\n",
    "# split esol dataset\n",
    "splitter = dc.splits.RandomSplitter()\n",
    "train_set, test_set = splitter.train_test_split(dataset, frac_train=0.8, seed=0)"
   ]
  },
  {
   "cell_type": "code",
   "execution_count": null,
   "metadata": {},
   "outputs": [],
   "source": [
    "hyper_params = {\n",
    "    'batch_size': [32, 16],\n",
    "    'graph_conv_layers': [[64, 64], [128, 128], [256, 256]],\n",
    "    'dense_layer_size': [256, 128],\n",
    "    'dropout': [0.0],\n",
    "}\n",
    "\n",
    "search_results, (batch_size, conv_layers, layer_sizes, dropout_rate) = grid_search_graph_conv(train_set, hyper_params)"
   ]
  },
  {
   "cell_type": "code",
   "execution_count": 5,
   "metadata": {},
   "outputs": [
    {
     "name": "stdout",
     "output_type": "stream",
     "text": [
      "       rmse  batch_size conv_layers  layer_sizes  dropout_rate\n",
      "7  0.980285          32  [128, 128]          128           0.0\n",
      "6  1.003968          32  [128, 128]          256           0.0\n",
      "5  1.033282          32    [64, 64]          128           0.0\n",
      "4  1.036602          32    [64, 64]          256           0.0\n",
      "3  1.055363          64  [128, 128]          128           0.0\n",
      "2  1.080275          64  [128, 128]          256           0.0\n",
      "0  1.093807          64    [64, 64]          256           0.0\n",
      "1  1.130356          64    [64, 64]          128           0.0\n"
     ]
    }
   ],
   "source": [
    "print(search_results)"
   ]
  },
  {
   "cell_type": "code",
   "execution_count": null,
   "metadata": {},
   "outputs": [],
   "source": [
    "transformers = [dc.trans.NormalizationTransformer(transform_y=True, dataset=train_set, move_mean=True)]\n",
    "\n",
    "# preprocess data\n",
    "for transformer in transformers:\n",
    "    train_set = transformer.transform(train_set)\n",
    "    test_set = transformer.transform(test_set)\n",
    "\n",
    "# intantiate and fit model\n",
    "model = dc.models.GraphConvModel(1, mode='regression', batch_size=batch_size, graph_conv_layers=conv_layers, dense_layer_size=layer_sizes, dropout=dropout_rate)\n",
    "model.fit(train_set, nb_epoch=100)\n",
    "\n",
    "# evaluate model\n",
    "metric = [\n",
    "    dc.metrics.Metric(dc.metrics.rms_score, np.mean),\n",
    "    dc.metrics.Metric(dc.metrics.mae_score, np.mean),\n",
    "    dc.metrics.Metric(dc.metrics.pearson_r2_score, np.mean)\n",
    "]\n",
    "train_scores = model.evaluate(train_set, metric, transformers)\n",
    "test_scores = model.evaluate(test_set, metric, transformers)\n",
    "\n",
    "print(\"Train scores\")\n",
    "print(train_scores)\n",
    "\n",
    "print(\"Test scores\")\n",
    "print(test_scores)"
   ]
  },
  {
   "cell_type": "markdown",
   "metadata": {},
   "source": [
    "## Message Passing Neural Network"
   ]
  },
  {
   "cell_type": "code",
   "execution_count": null,
   "metadata": {},
   "outputs": [],
   "source": [
    "# load esol dataset from csv\n",
    "tasks = ['measured log solubility in mols per litre']\n",
    "loader = dc.data.CSVLoader(tasks=tasks, feature_field=\"smiles\", featurizer=dc.feat.WeaveFeaturizer())\n",
    "dataset = loader.create_dataset('esol.csv')\n",
    "\n",
    "# split esol dataset\n",
    "splitter = dc.splits.RandomSplitter()\n",
    "train_set, test_set = splitter.train_test_split(dataset, frac_train=0.8, seed=0)"
   ]
  },
  {
   "cell_type": "code",
   "execution_count": null,
   "metadata": {},
   "outputs": [
    {
     "name": "stdout",
     "output_type": "stream",
     "text": [
      "0.7057699567631636\n",
      "(1.00) rmse = 0.7058 => (64, 75, 14, 100)\n",
      "Best params = (64, 75, 14, 100)\n"
     ]
    }
   ],
   "source": [
    "hyper_params = {\n",
    "    'batch_size': [32, 16],\n",
    "    'n_atom_feat': [75],\n",
    "    'n_pair_feat': [14],\n",
    "    'n_hidden': [100]\n",
    "}\n",
    "\n",
    "search_results, (batch_size, n_atom_feat, n_pair_feat, n_hidden) = grid_search_mpnn(train_set, hyper_params)"
   ]
  },
  {
   "cell_type": "code",
   "execution_count": null,
   "metadata": {},
   "outputs": [],
   "source": [
    "print(search_results)"
   ]
  },
  {
   "cell_type": "code",
   "execution_count": null,
   "metadata": {},
   "outputs": [],
   "source": [
    "transformers = [dc.trans.NormalizationTransformer(transform_y=True, dataset=train_set, move_mean=True)]\n",
    "\n",
    "# preprocess data\n",
    "for transformer in transformers:\n",
    "    train_set = transformer.transform(train_set)\n",
    "    test_set = transformer.transform(test_set)\n",
    "\n",
    "# intantiate and fit model\n",
    "model = dc.models.MPNNModel(1, mode='regression', batch_size=batch_size, use_queue=False, n_atom_feat=n_atom_feat, n_pair_feat=n_pair_feat, n_hidden=n_hidden, learning_rate=0.0001, T=3, M=5)\n",
    "model.fit(train_set, nb_epoch=50, checkpoint_interval=100)\n",
    "\n",
    "# evaluate model\n",
    "metric = [\n",
    "    dc.metrics.Metric(dc.metrics.rms_score, np.mean),\n",
    "    dc.metrics.Metric(dc.metrics.mae_score, np.mean),\n",
    "    dc.metrics.Metric(dc.metrics.pearson_r2_score, np.mean)\n",
    "]\n",
    "train_scores = model.evaluate(train_set, metric, transformers)\n",
    "test_scores = model.evaluate(test_set, metric, transformers)\n",
    "\n",
    "print(\"Train scores\")\n",
    "print(train_scores)\n",
    "\n",
    "print(\"Test scores\")\n",
    "print(test_scores)"
   ]
  },
  {
   "cell_type": "markdown",
   "metadata": {},
   "source": [
    "## Random Forest Regressor"
   ]
  },
  {
   "cell_type": "code",
   "execution_count": 2,
   "metadata": {},
   "outputs": [],
   "source": [
    "# load esol dataset from csv\n",
    "tasks = ['measured log solubility in mols per litre']\n",
    "loader = dc.data.CSVLoader(tasks=tasks, feature_field=\"smiles\", featurizer=dc.feat.CircularFingerprint(size=2048, radius=4))\n",
    "dataset = loader.create_dataset('esol.csv')\n",
    "\n",
    "# split esol dataset\n",
    "splitter = dc.splits.RandomSplitter()\n",
    "train_set, test_set = splitter.train_test_split(dataset, frac_train=0.8, seed=0)"
   ]
  },
  {
   "cell_type": "code",
   "execution_count": 3,
   "metadata": {},
   "outputs": [
    {
     "name": "stdout",
     "output_type": "stream",
     "text": [
      "[####################      ]"
     ]
    }
   ],
   "source": [
    "hyper_params = {\n",
    "    'n_estimators': [100, 250, 500],\n",
    "    'criterion': ['mse', 'mae'],\n",
    "    'max_features': ['auto', 'sqrt', 'log2']\n",
    "}\n",
    "\n",
    "search_results, (n_estimators, criterion, max_features) = grid_search_random_forest(train_set, hyper_params)"
   ]
  },
  {
   "cell_type": "code",
   "execution_count": 4,
   "metadata": {},
   "outputs": [
    {
     "name": "stdout",
     "output_type": "stream",
     "text": [
      "       rmse  n_estimators criterion max_features\n",
      "0  1.286859            10       mse         auto\n",
      "3  1.294778            10       mae         auto\n",
      "1  1.335149            10       mse         sqrt\n",
      "4  1.365178            10       mae         sqrt\n",
      "2  1.407378            10       mse         log2\n",
      "5  1.413807            10       mae         log2\n"
     ]
    }
   ],
   "source": [
    "print(search_results)"
   ]
  },
  {
   "cell_type": "code",
   "execution_count": 5,
   "metadata": {},
   "outputs": [
    {
     "name": "stdout",
     "output_type": "stream",
     "text": [
      "Train scores\n",
      "{'mean-rms_score': 0.5164803548946703, 'mean-mae_score': 0.35819262379896527, 'mean-pearson_r2_score': 0.9473553599901838}\n",
      "Test scores\n",
      "{'mean-rms_score': 1.1804430520170475, 'mean-mae_score': 0.9221431489675517, 'mean-pearson_r2_score': 0.6808385798655135}\n"
     ]
    }
   ],
   "source": [
    "from sklearn.ensemble import RandomForestRegressor\n",
    "\n",
    "# intantiate and fit model\n",
    "sklearn_model = RandomForestRegressor(n_estimators=n_estimators, criterion=criterion, max_features=max_features, random_state=0)\n",
    "model = dc.models.SklearnModel(sklearn_model)\n",
    "model.fit(train_set)\n",
    "\n",
    "# evaluate model\n",
    "metric = [\n",
    "    dc.metrics.Metric(dc.metrics.rms_score, np.mean),\n",
    "    dc.metrics.Metric(dc.metrics.mae_score, np.mean),\n",
    "    dc.metrics.Metric(dc.metrics.pearson_r2_score, np.mean)\n",
    "]\n",
    "train_scores = model.evaluate(train_set, metric, [])\n",
    "test_scores = model.evaluate(test_set, metric, [])\n",
    "\n",
    "print(\"Train scores\")\n",
    "print(train_scores)\n",
    "\n",
    "print(\"Test scores\")\n",
    "print(test_scores)"
   ]
  }
 ],
 "metadata": {
  "interpreter": {
   "hash": "cd4f712bdf0515c4096e7f378f6652de9b65133e68b219cf86da6448b555e669"
  },
  "kernelspec": {
   "display_name": "Python 3.9.2 64-bit",
   "language": "python",
   "name": "python3"
  },
  "language_info": {
   "codemirror_mode": {
    "name": "ipython",
    "version": 3
   },
   "file_extension": ".py",
   "mimetype": "text/x-python",
   "name": "python",
   "nbconvert_exporter": "python",
   "pygments_lexer": "ipython3",
   "version": "3.9.2"
  },
  "orig_nbformat": 4
 },
 "nbformat": 4,
 "nbformat_minor": 2
}
