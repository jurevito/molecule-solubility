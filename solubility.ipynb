{
 "cells": [
  {
   "cell_type": "code",
   "execution_count": 1,
   "metadata": {},
   "outputs": [],
   "source": [
    "from util import *\n",
    "import pandas as pd\n",
    "import numpy as np\n",
    "import deepchem as dc\n",
    "from matplotlib import pyplot as plt\n",
    "import warnings\n",
    "import os\n",
    "\n",
    "warnings.filterwarnings('ignore')\n",
    "os.environ['TF_CPP_MIN_LOG_LEVEL'] = '2'"
   ]
  },
  {
   "cell_type": "code",
   "execution_count": 2,
   "metadata": {},
   "outputs": [],
   "source": [
    "# load dataset\n",
    "data = pd.read_csv(\"esol.csv\")"
   ]
  },
  {
   "cell_type": "markdown",
   "metadata": {},
   "source": [
    "## Graph Convolutional Models"
   ]
  },
  {
   "cell_type": "code",
   "execution_count": null,
   "metadata": {},
   "outputs": [],
   "source": [
    "_, dataset, transformers = dc.molnet.load_delaney(featurizer='GraphConv', splitter=None)\n",
    "\n",
    "splitter = dc.splits.RandomSplitter()\n",
    "train_set, test_set = splitter.train_test_split(dataset[0], frac_train=0.8, seed=0)"
   ]
  },
  {
   "cell_type": "code",
   "execution_count": null,
   "metadata": {},
   "outputs": [],
   "source": [
    "hyper_params = {\n",
    "    'batch_size': [64, 32],\n",
    "    'graph_conv_layers': [[64, 64], [128, 128]],\n",
    "    'dense_layer_size': [256, 128],\n",
    "    'dropout': [0.0],\n",
    "}\n",
    "\n",
    "batch_size, conv_layers, layer_sizes, dropout_rate = grid_search_graph_conv(train_set, hyper_params, transformers)"
   ]
  },
  {
   "cell_type": "code",
   "execution_count": 5,
   "metadata": {},
   "outputs": [
    {
     "name": "stdout",
     "output_type": "stream",
     "text": [
      "Train scores\n",
      "{'mean-rms_score': 0.2364051547554253}\n",
      "Test scores\n",
      "{'mean-rms_score': 0.8407922699434737}\n"
     ]
    }
   ],
   "source": [
    "# intantiate and fit model\n",
    "model = dc.models.GraphConvModel(1, mode='regression', batch_size=batch_size, graph_conv_layers=conv_layers, dense_layer_size=layer_sizes, dropout=dropout_rate)\n",
    "model.fit(train_set, nb_epoch=100)\n",
    "\n",
    "# evaluate model\n",
    "metric = dc.metrics.Metric(dc.metrics.rms_score, np.mean)\n",
    "train_scores = model.evaluate(train_set, [metric], transformers)\n",
    "test_scores = model.evaluate(test_set, [metric], transformers)\n",
    "\n",
    "print(\"Train scores\")\n",
    "print(train_scores)\n",
    "\n",
    "print(\"Test scores\")\n",
    "print(test_scores)"
   ]
  },
  {
   "cell_type": "markdown",
   "metadata": {},
   "source": [
    "## Message Passing Neural Network"
   ]
  },
  {
   "cell_type": "code",
   "execution_count": 2,
   "metadata": {},
   "outputs": [],
   "source": [
    "_, dataset, transformers = dc.molnet.load_delaney(featurizer='Weave', splitter=None)\n",
    "\n",
    "splitter = dc.splits.RandomSplitter()\n",
    "train_set, test_set = splitter.train_test_split(dataset[0], frac_train=0.8, seed=0)"
   ]
  },
  {
   "cell_type": "code",
   "execution_count": null,
   "metadata": {},
   "outputs": [],
   "source": [
    "hyper_params = {\n",
    "    'batch_size': [64],\n",
    "    'n_atom_feat': [75],\n",
    "    'n_pair_feat': [14],\n",
    "    'n_hidden': [100]\n",
    "}\n",
    "\n",
    "batch_size, n_atom_feat, n_pair_feat, n_hidden = grid_search_mpnn(train_set, hyper_params, transformers)"
   ]
  },
  {
   "cell_type": "code",
   "execution_count": null,
   "metadata": {},
   "outputs": [],
   "source": [
    "# intantiate and fit model\n",
    "model = dc.models.MPNNModel(1, mode='regression', batch_size=batch_size, use_queue=False, n_atom_feat=n_atom_feat, n_pair_feat=n_pair_feat, n_hidden=n_hidden, learning_rate=0.0001, T=3, M=5)\n",
    "model.fit(train_set, nb_epoch=50, checkpoint_interval=100)\n",
    "\n",
    "# evaluate model\n",
    "metric = dc.metrics.Metric(dc.metrics.rms_score, np.mean)\n",
    "train_scores = model.evaluate(train_set, [metric], transformers)\n",
    "test_scores = model.evaluate(test_set, [metric], transformers)\n",
    "\n",
    "print(\"Train scores\")\n",
    "print(train_scores)\n",
    "\n",
    "print(\"Test scores\")\n",
    "print(test_scores)"
   ]
  },
  {
   "cell_type": "markdown",
   "metadata": {},
   "source": [
    "## Random Forest Regressor"
   ]
  },
  {
   "cell_type": "code",
   "execution_count": null,
   "metadata": {},
   "outputs": [],
   "source": [
    "_, dataset, transformers = dc.molnet.load_delaney(splitter=None)\n",
    "\n",
    "splitter = dc.splits.RandomSplitter()\n",
    "train_set, test_set = splitter.train_test_split(dataset[0], frac_train=0.8, seed=0)"
   ]
  },
  {
   "cell_type": "code",
   "execution_count": null,
   "metadata": {},
   "outputs": [],
   "source": [
    "from sklearn.ensemble import RandomForestRegressor\n",
    "\n",
    "hyper_params = {\n",
    "    'n_estimators': [50, 100, 250, 500],\n",
    "    'criterion': ['squared_error', 'absolute_error'],\n",
    "}\n",
    "\n",
    "batch_size, n_atom_feat, n_pair_feat, n_hidden = grid_search_random_forest(train_set, hyper_params, transformers)\n",
    "\n",
    "sklearn_model = RandomForestRegressor(n_estimators=100, criterion='squared_error', random_state=0)\n",
    "model = dc.models.SklearnModel(sklearn_model)"
   ]
  }
 ],
 "metadata": {
  "interpreter": {
   "hash": "cd4f712bdf0515c4096e7f378f6652de9b65133e68b219cf86da6448b555e669"
  },
  "kernelspec": {
   "display_name": "Python 3.9.2 64-bit",
   "language": "python",
   "name": "python3"
  },
  "language_info": {
   "codemirror_mode": {
    "name": "ipython",
    "version": 3
   },
   "file_extension": ".py",
   "mimetype": "text/x-python",
   "name": "python",
   "nbconvert_exporter": "python",
   "pygments_lexer": "ipython3",
   "version": "3.9.2"
  },
  "orig_nbformat": 4
 },
 "nbformat": 4,
 "nbformat_minor": 2
}
